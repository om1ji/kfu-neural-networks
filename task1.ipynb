{
 "cells": [
  {
   "cell_type": "code",
   "execution_count": 3,
   "metadata": {},
   "outputs": [],
   "source": [
    "import torch\n",
    "import numpy as np"
   ]
  },
  {
   "cell_type": "code",
   "execution_count": 4,
   "metadata": {},
   "outputs": [
    {
     "name": "stdout",
     "output_type": "stream",
     "text": [
      "Исходный тензор x:\n",
      "tensor([[1, 2],\n",
      "        [3, 4]])\n",
      "Исходный тензор y:\n",
      "tensor([[5, 6],\n",
      "        [7, 8]])\n",
      "Результат объединения:\n",
      "tensor([[1, 2],\n",
      "        [3, 4],\n",
      "        [5, 6],\n",
      "        [7, 8]])\n",
      "\n"
     ]
    }
   ],
   "source": [
    "# 1. torch.cat()\n",
    "# Функция конкатенации объединяет тензоры вдоль заданной размерности. \n",
    "# Размеры должны совпадать.\n",
    "#\n",
    "# dim=0 означает объединение по строкам (вертикально)\n",
    "# dim=1 означает объединение по столбцам (горизонтально)\n",
    "\n",
    "x = torch.tensor([[1, 2], [3, 4]])\n",
    "y = torch.tensor([[5, 6], [7, 8]])\n",
    "concatenated = torch.cat((x, y), dim=0)\n",
    "\n",
    "print(f\"Исходный тензор x:\\n{x}\")\n",
    "print(f\"Исходный тензор y:\\n{y}\")\n",
    "\n",
    "print(f\"Результат объединения:\\n{concatenated}\\n\")\n"
   ]
  },
  {
   "cell_type": "code",
   "execution_count": 5,
   "metadata": {},
   "outputs": [
    {
     "name": "stdout",
     "output_type": "stream",
     "text": [
      "Тензор: tensor([1, 2, 3, 4, 5, 6])\n",
      "Тензор c остаточным чанком: tensor([1, 2, 3, 4, 5, 6, 7])\n",
      "Результат разделения на части:\n",
      "Тензор 1, часть 1: tensor([1, 2])\n",
      "Тензор 1, часть 2: tensor([3, 4])\n",
      "Тензор 1, часть 3: tensor([5, 6])\n",
      "\n",
      "Тензор 2, часть 1: tensor([1, 2, 3])\n",
      "Тензор 2, часть 2: tensor([4, 5, 6])\n",
      "Тензор 2, часть 3: tensor([7])\n"
     ]
    }
   ],
   "source": [
    "# 2. torch.chunk()\n",
    "# Функция разделяет тензор на заданное количество частей вдоль указанной размерности\n",
    "# Если тензор нельзя разделить на равные части, последний чанк будет остаточным\n",
    "\n",
    "tensor = torch.tensor([1, 2, 3, 4, 5, 6])\n",
    "tensor2 = torch.tensor([1, 2, 3, 4, 5, 6, 7])\n",
    "chunks = torch.chunk(tensor, chunks=3, dim=0)\n",
    "\n",
    "print(f\"Тензор: {tensor}\")\n",
    "print(f\"Тензор c остаточным чанком: {tensor2}\")\n",
    "print(\"Результат разделения на части:\")\n",
    "\n",
    "chunks2 = torch.chunk(tensor2, chunks=3, dim=0)\n",
    "\n",
    "for i, chunk in enumerate(chunks):\n",
    "    print(f\"Тензор 1, часть {i + 1}: {chunk}\")\n",
    "\n",
    "print()\n",
    "\n",
    "for i, chunk in enumerate(chunks2):\n",
    "    print(f\"Тензор 2, часть {i + 1}: {chunk}\")\n"
   ]
  },
  {
   "cell_type": "code",
   "execution_count": 6,
   "metadata": {},
   "outputs": [
    {
     "name": "stdout",
     "output_type": "stream",
     "text": [
      "Исходный тензор:\n",
      "tensor([[1, 2],\n",
      "        [3, 4],\n",
      "        [5, 6]])\n",
      "Индексы:\n",
      "tensor([[0, 1],\n",
      "        [1, 0],\n",
      "        [0, 0]])\n",
      "Результат выборки:\n",
      "tensor([[1, 2],\n",
      "        [4, 3],\n",
      "        [5, 5]])\n",
      "\n"
     ]
    }
   ],
   "source": [
    "# 3. torch.gather()\n",
    "# Функция gather() собирает значения из тензора по указанным индексам\n",
    "# Индексы задаются тензором такой же формы, как и результат\n",
    "\n",
    "src = torch.tensor([[1, 2], [3, 4], [5, 6]])\n",
    "index = torch.tensor([[0, 1], [1, 0], [0, 0]])\n",
    "gathered = torch.gather(src, dim=1, index=index)\n",
    "\n",
    "print(f\"Исходный тензор:\\n{src}\")\n",
    "print(f\"Индексы:\\n{index}\")\n",
    "print(f\"Результат выборки:\\n{gathered}\\n\")\n"
   ]
  },
  {
   "cell_type": "code",
   "execution_count": null,
   "metadata": {},
   "outputs": [],
   "source": []
  },
  {
   "cell_type": "code",
   "execution_count": 7,
   "metadata": {},
   "outputs": [
    {
     "name": "stdout",
     "output_type": "stream",
     "text": [
      "Исходный тензор: tensor([1, 2, 3, 4, 5, 6, 7, 8])\n",
      "Тензор после изменения формы (2x4):\n",
      "tensor([[1, 2, 3, 4],\n",
      "        [5, 6, 7, 8]])\n",
      "\n"
     ]
    }
   ],
   "source": [
    "# 4. torch.reshape()\n",
    "# Функция reshape() изменяет форму тензора без изменения его данных\n",
    "# Новая форма должна сохранять то же количество элементов\n",
    "\n",
    "original = torch.tensor([1, 2, 3, 4, 5, 6, 7, 8])\n",
    "reshaped = torch.reshape(original, (2, 4))\n",
    "\n",
    "print(f\"Исходный тензор: {original}\")\n",
    "print(f\"Тензор после изменения формы (2x4):\\n{reshaped}\\n\")\n"
   ]
  },
  {
   "cell_type": "code",
   "execution_count": 8,
   "metadata": {},
   "outputs": [
    {
     "name": "stdout",
     "output_type": "stream",
     "text": [
      "Исходная форма: torch.Size([1, 2, 1, 3])\n",
      "Форма после сжатия: torch.Size([2, 3])\n",
      "\n"
     ]
    }
   ],
   "source": [
    "# 5. torch.squeeze()\n",
    "# Функция squeeze() удаляет все размерности тензора, равные 1\n",
    "# Полезно для удаления лишних одномерных размерностей\n",
    "\n",
    "tensor_with_ones = torch.zeros(1, 2, 1, 3)\n",
    "squeezed = torch.squeeze(tensor_with_ones)\n",
    "\n",
    "print(f\"Исходная форма: {tensor_with_ones.shape}\")\n",
    "print(f\"Форма после сжатия: {squeezed.shape}\\n\")\n"
   ]
  },
  {
   "cell_type": "code",
   "execution_count": 9,
   "metadata": {},
   "outputs": [
    {
     "name": "stdout",
     "output_type": "stream",
     "text": [
      "Тензор 1: tensor([1, 2, 3])\n",
      "Тензор 2: tensor([4, 5, 6])\n",
      "Тензор 3: tensor([7, 8, 9])\n",
      "Результат объединения:\n",
      "tensor([[1, 2, 3],\n",
      "        [4, 5, 6],\n",
      "        [7, 8, 9]])\n",
      "\n"
     ]
    }
   ],
   "source": [
    "# 6. torch.stack()\n",
    "# Функция stack() объединяет последовательность тензоров в один тензор вдоль новой размерности\n",
    "# Все входные тензоры должны иметь одинаковую форму\n",
    "\n",
    "tensor1 = torch.tensor([1, 2, 3])\n",
    "tensor2 = torch.tensor([4, 5, 6])\n",
    "tensor3 = torch.tensor([7, 8, 9])\n",
    "stacked = torch.stack([tensor1, tensor2, tensor3])\n",
    "\n",
    "print(f\"Тензор 1: {tensor1}\")\n",
    "print(f\"Тензор 2: {tensor2}\")\n",
    "print(f\"Тензор 3: {tensor3}\")\n",
    "print(f\"Результат объединения:\\n{stacked}\\n\")\n"
   ]
  },
  {
   "cell_type": "code",
   "execution_count": 10,
   "metadata": {},
   "outputs": [
    {
     "name": "stdout",
     "output_type": "stream",
     "text": [
      "Исходная матрица:\n",
      "tensor([[1, 2, 3],\n",
      "        [4, 5, 6]])\n",
      "Транспонированная матрица:\n",
      "tensor([[1, 4],\n",
      "        [2, 5],\n",
      "        [3, 6]])\n",
      "\n"
     ]
    }
   ],
   "source": [
    "# 7. torch.transpose()\n",
    "# Функция transpose() меняет местами две указанные размерности тензора\n",
    "# Часто используется для преобразования матриц\n",
    "\n",
    "matrix = torch.tensor([[1, 2, 3], [4, 5, 6]])\n",
    "transposed = torch.transpose(matrix, 0, 1)\n",
    "\n",
    "print(f\"Исходная матрица:\\n{matrix}\")\n",
    "print(f\"Транспонированная матрица:\\n{transposed}\\n\")\n"
   ]
  },
  {
   "cell_type": "code",
   "execution_count": 11,
   "metadata": {},
   "outputs": [
    {
     "name": "stdout",
     "output_type": "stream",
     "text": [
      "Исходный тензор: tensor([1, 2, 3, 4]), форма: torch.Size([4])\n",
      "После добавления размерности: tensor([[1, 2, 3, 4]]), форма: torch.Size([1, 4])\n",
      "\n"
     ]
    }
   ],
   "source": [
    "# 8. torch.unsqueeze()\n",
    "# Функция unsqueeze() добавляет новую размерность размера 1 по указанному индексу\n",
    "# Полезно при подготовке данных для нейронных сетей\n",
    "\n",
    "tensor = torch.tensor([1, 2, 3, 4])\n",
    "unsqueezed = torch.unsqueeze(tensor, dim=0)\n",
    "\n",
    "print(f\"Исходный тензор: {tensor}, форма: {tensor.shape}\")\n",
    "print(f\"После добавления размерности: {unsqueezed}, форма: {unsqueezed.shape}\\n\")\n"
   ]
  },
  {
   "cell_type": "code",
   "execution_count": 12,
   "metadata": {},
   "outputs": [
    {
     "name": "stdout",
     "output_type": "stream",
     "text": [
      "Условие:\n",
      "tensor([[ True, False],\n",
      "        [False,  True]])\n",
      "Тензор x:\n",
      "tensor([[1, 2],\n",
      "        [3, 4]])\n",
      "Тензор y:\n",
      "tensor([[5, 6],\n",
      "        [7, 8]])\n",
      "Результат:\n",
      "tensor([[1, 6],\n",
      "        [7, 4]])\n",
      "\n"
     ]
    }
   ],
   "source": [
    "# 9. torch.where()\n",
    "# Функция where() возвращает тензор с элементами из x там, где условие истинно,\n",
    "# и элементами из y там, где условие ложно\n",
    "\n",
    "condition = torch.tensor([[True, False], [False, True]])\n",
    "x = torch.tensor([[1, 2], [3, 4]])\n",
    "y = torch.tensor([[5, 6], [7, 8]])\n",
    "result = torch.where(condition, x, y)\n",
    "\n",
    "print(f\"Условие:\\n{condition}\")\n",
    "print(f\"Тензор x:\\n{x}\")\n",
    "print(f\"Тензор y:\\n{y}\")\n",
    "print(f\"Результат:\\n{result}\\n\")\n"
   ]
  },
  {
   "cell_type": "code",
   "execution_count": 13,
   "metadata": {},
   "outputs": [
    {
     "name": "stdout",
     "output_type": "stream",
     "text": [
      "Исходный тензор:\n",
      "tensor([[0, 1, 0],\n",
      "        [2, 0, 3]])\n",
      "Индексы ненулевых элементов:\n",
      "tensor([[0, 1],\n",
      "        [1, 0],\n",
      "        [1, 2]])\n",
      "Пояснение: каждая строка содержит [номер_строки, номер_столбца] ненулевого элемента\n"
     ]
    }
   ],
   "source": [
    "# 10. torch.nonzero()\n",
    "# Функция nonzero() возвращает индексы всех ненулевых элементов тензора\n",
    "# Каждая строка в выходном тензоре содержит индексы одного ненулевого элемента\n",
    "\n",
    "tensor = torch.tensor([[0, 1, 0], [2, 0, 3]])\n",
    "nonzero_indices = torch.nonzero(tensor)\n",
    "\n",
    "print(f\"Исходный тензор:\\n{tensor}\")\n",
    "print(f\"Индексы ненулевых элементов:\\n{nonzero_indices}\")\n",
    "print(\"Пояснение: каждая строка содержит [номер_строки, номер_столбца] ненулевого элемента\")\n"
   ]
  }
 ],
 "metadata": {
  "kernelspec": {
   "display_name": "nn",
   "language": "python",
   "name": "python3"
  },
  "language_info": {
   "codemirror_mode": {
    "name": "ipython",
    "version": 3
   },
   "file_extension": ".py",
   "mimetype": "text/x-python",
   "name": "python",
   "nbconvert_exporter": "python",
   "pygments_lexer": "ipython3",
   "version": "3.12.2"
  }
 },
 "nbformat": 4,
 "nbformat_minor": 2
}
